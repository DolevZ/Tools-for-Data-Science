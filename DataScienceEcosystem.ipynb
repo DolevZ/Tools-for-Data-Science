{
 "cells": [
  {
   "cell_type": "markdown",
   "id": "0a374412-613d-47e4-8166-c72aed849ba3",
   "metadata": {
    "tags": []
   },
   "source": [
    "# Data Science Tools and Ecosystem\n",
    "In this notebook, Data Science Tools and Ecosystem are summarized."
   ]
  },
  {
   "cell_type": "markdown",
   "id": "e770d71e-b116-4b03-9d28-54bb728f9e40",
   "metadata": {},
   "source": [
    "Objectives:\n",
    "+ Popular programming languages for Data Science\n",
    "+ Popular libraries used by Data Scientists\n",
    "+ Known open source tools for Data Science"
   ]
  },
  {
   "cell_type": "markdown",
   "id": "b790def4-5179-4aaa-a64e-f37086a54439",
   "metadata": {},
   "source": [
    "Some of the popular languages that Data Scientists use are:\n",
    "1. Python\n",
    "2. SQL\n",
    "3. R"
   ]
  },
  {
   "cell_type": "markdown",
   "id": "754880e8-dac3-44a2-b854-358b1c9f6f0f",
   "metadata": {},
   "source": [
    "Some of the commonly used libraries used by Data Scientists include:\n",
    "\n",
    "1. Pandas\n",
    "2. Numpy\n",
    "3. Matplotlib"
   ]
  },
  {
   "cell_type": "markdown",
   "id": "d24fd891-0500-4fa8-a837-3845e9d13558",
   "metadata": {},
   "source": [
    "\n",
    "|Data Science Tools|\n",
    "|------------------|\n",
    "|MySQL|\n",
    "|MongoDB|\n",
    "|Apache Air Flow|"
   ]
  },
  {
   "cell_type": "markdown",
   "id": "935e3e5a-3472-4a0e-a89b-1bf96d74caa8",
   "metadata": {},
   "source": [
    "### Below are a few examples of evaluating arithmetic expressions in Python"
   ]
  },
  {
   "cell_type": "markdown",
   "id": "76654f9d-4a87-485c-b01b-91eac819eb83",
   "metadata": {},
   "source": [
    "This a simple arithmetic expression to multiply then add integers"
   ]
  },
  {
   "cell_type": "code",
   "execution_count": 1,
   "id": "a6326a9c-46cf-4a82-ae9e-bda24cd5bf47",
   "metadata": {},
   "outputs": [
    {
     "data": {
      "text/plain": [
       "17"
      ]
     },
     "execution_count": 1,
     "metadata": {},
     "output_type": "execute_result"
    }
   ],
   "source": [
    "(3*4)+5"
   ]
  },
  {
   "cell_type": "markdown",
   "id": "c5ac7af0-5f9b-4bfd-a7e7-54ac6983d28b",
   "metadata": {},
   "source": [
    "This will convert 200 minutes to hours by diving by 60"
   ]
  },
  {
   "cell_type": "code",
   "execution_count": 5,
   "id": "00a1ac44-6aa8-4855-a702-f6c729801b71",
   "metadata": {},
   "outputs": [
    {
     "data": {
      "text/plain": [
       "3.3333333333333335"
      ]
     },
     "execution_count": 5,
     "metadata": {},
     "output_type": "execute_result"
    }
   ],
   "source": [
    "200/60"
   ]
  },
  {
   "cell_type": "markdown",
   "id": "68cb5d7d-fb59-464c-be6e-189d008cca5d",
   "metadata": {},
   "source": [
    "## Author\n",
    "Dolev Zaiderman"
   ]
  },
  {
   "cell_type": "code",
   "execution_count": null,
   "id": "d2f2f731-b3d8-49e8-9c42-5ca3ea1e5b95",
   "metadata": {},
   "outputs": [],
   "source": []
  }
 ],
 "metadata": {
  "kernelspec": {
   "display_name": "anaconda-panel-2023.05-py310",
   "language": "python",
   "name": "conda-env-anaconda-panel-2023.05-py310-py"
  },
  "language_info": {
   "codemirror_mode": {
    "name": "ipython",
    "version": 3
   },
   "file_extension": ".py",
   "mimetype": "text/x-python",
   "name": "python",
   "nbconvert_exporter": "python",
   "pygments_lexer": "ipython3",
   "version": "3.11.4"
  }
 },
 "nbformat": 4,
 "nbformat_minor": 5
}
